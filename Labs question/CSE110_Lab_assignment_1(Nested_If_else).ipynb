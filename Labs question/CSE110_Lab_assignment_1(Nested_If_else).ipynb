{
  "nbformat": 4,
  "nbformat_minor": 0,
  "metadata": {
    "colab": {
      "provenance": []
    },
    "kernelspec": {
      "name": "python3",
      "display_name": "Python 3"
    },
    "language_info": {
      "name": "python"
    }
  },
  "cells": [
    {
      "cell_type": "markdown",
      "source": [
        "**Problem: Airline Seat Selectio**n\n",
        "\n",
        "You are tasked with writing a program for an airline reservation system that allows passengers to select their seats. The program should prompt the user to enter the seat row and column numbers, and based on the following criteria, assign the seat to the passenger:\n",
        "\n",
        "- Rows 1 to 10 (First Class): Seats A, B, C, D\n",
        "- Rows 11 to 20 (Business Class): Seats A, B, C, D, E, F\n",
        "- Rows 21 to 30 (Economy Class): Seats A, B, C, D, E, F, G, H\n",
        "\n",
        "However, if a passenger selects a seat that is already occupied, the program should display an error message and prompt the passenger to select a different seat.\n",
        "\n",
        "Your task is to write the code that solves this problem using nested if-else statements, considering the seat selection and availability.\n"
      ],
      "metadata": {
        "id": "dkZ9mdXaVnVZ"
      }
    },
    {
      "cell_type": "code",
      "execution_count": null,
      "metadata": {
        "id": "Ww7HmKNBVRZ_"
      },
      "outputs": [],
      "source": []
    },
    {
      "cell_type": "markdown",
      "source": [
        "**Problem: Shipping Cost Calculation**\n",
        "\n",
        "You are developing a program for an e-commerce platform that needs to calculate the shipping cost for an order based on the weight and destination of the package. The program should prompt the user to enter the weight of the package in kilograms and the destination country code. Based on the following criteria, the program should calculate and display the shipping cost:\n",
        "\n",
        "- Weight up to 1kg: $10\n",
        "\n",
        "- Weight between 1kg and 5kg (inclusive):\n",
        "\n",
        "  - Destination within the same country: $20\n",
        "\n",
        "  - International destination: $40\n",
        "\n",
        "- Weight between 5kg and 10kg (inclusive):\n",
        "\n",
        "  - Destination within the same country: $30\n",
        "\n",
        "  - International destination: $60\n",
        "\n",
        "- Weight above 10kg:\n",
        "\n",
        "  - Destination within the same country: $50\n",
        "  \n",
        "  - International destination: $100\n",
        "\n",
        "Your task is to write the code that solves this problem using nested if-else statements, considering the weight and destination."
      ],
      "metadata": {
        "id": "nsmUFxfMVr36"
      }
    },
    {
      "cell_type": "code",
      "source": [],
      "metadata": {
        "id": "p_fDTKkNWkOB"
      },
      "execution_count": null,
      "outputs": []
    },
    {
      "cell_type": "markdown",
      "source": [
        "**Problem: Course Enrollment Eligibility**\n",
        "\n",
        "You are developing a program for a university's course enrollment system. The program should prompt the user to enter the student's age, previous course grades, and the number of completed credits. Based on the following eligibility criteria, the program should determine if the student is eligible to enroll in a particular course:\n",
        "\n",
        "- Age must be between 18 and 25 (inclusive).\n",
        "- Average course grade must be at least 75%.\n",
        "- Completed credits must be at least 30.\n",
        "\n",
        "The eligibility for the course is determined as follows:\n",
        "\n",
        "- If the student meets all eligibility criteria, they are eligible for enrollment.\n",
        "- If the student fails to meet any one criterion, they are not eligible for enrollment.\n",
        "\n",
        "Your task is to write the code that solves this problem using nested if-else statements, considering the age, average course grade, and completed credits."
      ],
      "metadata": {
        "id": "5ZfWqNkZV9kF"
      }
    },
    {
      "cell_type": "code",
      "source": [],
      "metadata": {
        "id": "9KO0NKNtW4ve"
      },
      "execution_count": null,
      "outputs": []
    },
    {
      "cell_type": "markdown",
      "source": [
        "**Problem: Airline Seat Reservation System**\n",
        "\n",
        "You are developing a program for an airline's seat reservation system. The program should prompt the user to enter the class (first/business/economy) and the seat type (window/aisle) for a flight. Based on the following criteria, the program should determine the seat number and display a confirmation message:\n",
        "\n",
        "- First Class:\n",
        "  - Window seat: Seat numbers range from 1 to 10.\n",
        "  - Aisle seat: Seat numbers range from 11 to 20.\n",
        "- Business Class:\n",
        "  - Window seat: Seat numbers range from 21 to 50.\n",
        "  - Aisle seat: Seat numbers range from 51 to 80.\n",
        "- Economy Class:\n",
        "  - Window seat: Seat numbers range from 81 to 200.\n",
        "  - Aisle seat: Seat numbers range from 201 to 300.\n",
        "\n",
        "However, there are the following additional rules:\n",
        "\n",
        "- If the selected class or seat type is invalid, display an error message.\n",
        "- If a seat number is already occupied, display a message indicating that the seat is not available and suggest an alternative seat.\n",
        "\n",
        "Your task is to write the code that solves this problem using nested if-else statements, considering the class, seat type, and the given criteria and rules."
      ],
      "metadata": {
        "id": "i2mQu-qqW6Na"
      }
    },
    {
      "cell_type": "code",
      "source": [],
      "metadata": {
        "id": "Ont_7S_hYNvn"
      },
      "execution_count": null,
      "outputs": []
    },
    {
      "cell_type": "markdown",
      "source": [
        "**Problem: Discount Calculator**\n",
        "\n",
        "You are developing a program to calculate the discount for a shopping cart based on the total purchase amount and the type of customer. The program should take the following inputs:\n",
        "\n",
        "- Total Purchase Amount: The total amount of the items in the shopping cart.\n",
        "- Customer Type: The type of customer, which can be \"Regular\" or \"VIP\".\n",
        "\n",
        "Based on these inputs, the program should calculate and display the discount amount and the final payable amount using the following criteria:\n",
        "\n",
        "- For regular customers:\n",
        "  - If the total purchase amount is less than $100, no discount is applied.\n",
        "\n",
        "  - If the total purchase amount is between $100 and $500 (inclusive), a discount of 10% is applied.\n",
        "\n",
        "  - If the total purchase amount is above $500, a discount of 15% is applied.\n",
        "\n",
        "- For VIP customers:\n",
        "  - If the total purchase amount is less than $100, a discount of 5% is applied.\n",
        "\n",
        "  - If the total purchase amount is between $100 and $500 (inclusive), a discount of 15% is applied.\n",
        "\n",
        "  - If the total purchase amount is above $500, a discount of 20% is applied.\n",
        "\n",
        "Your task is to write the code that solves this problem using nested if-else statements, considering the total purchase amount and customer type to calculate the discount and final payable amount."
      ],
      "metadata": {
        "id": "Kf31g-WKYOi1"
      }
    },
    {
      "cell_type": "code",
      "source": [],
      "metadata": {
        "id": "CfWdfGBYdB-7"
      },
      "execution_count": null,
      "outputs": []
    }
  ]
}