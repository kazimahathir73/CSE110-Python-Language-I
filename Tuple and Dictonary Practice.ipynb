{
 "cells": [
  {
   "cell_type": "code",
   "execution_count": 31,
   "id": "1f15c6c1",
   "metadata": {},
   "outputs": [
    {
     "name": "stdout",
     "output_type": "stream",
     "text": [
      "Enter the number of value:4\n",
      "Enter the Number:1232\n",
      "Enter the Number:2233\n",
      "Enter the Number:6577\n",
      "Enter the Number:99877\n",
      "(('1232', '2233'), ('6577', '99877'))\n"
     ]
    }
   ],
   "source": [
    "#Problem-01\n",
    "\n",
    "\n",
    "#starts\n",
    "#taking input\n",
    "n1=int(input('Enter the number of value:'))\n",
    "\n",
    "odd_sum=0\n",
    "even_sum=0\n",
    "magic_tuple=[]\n",
    "nonmagic_tuple=[]\n",
    "\n",
    "for i in range(0,n1):\n",
    "    num=input('Enter the Number:')\n",
    "    \n",
    "    for i in range(0,len(num)):\n",
    "        if(i%2==0):\n",
    "            num1=int(num[i])\n",
    "            even_sum=even_sum+num1\n",
    "        else:\n",
    "            num2=int(num[i])\n",
    "            odd_sum=odd_sum+num2\n",
    "        \n",
    "    #condition for magic number\n",
    "    if(even_sum == odd_sum):\n",
    "        magic_tuple.append(num)\n",
    "    else:\n",
    "        nonmagic_tuple.append(num)\n",
    "    \n",
    "tuple1=tuple(magic_tuple)\n",
    "tuple2=tuple(nonmagic_tuple)\n",
    "\n",
    "final_tuple=[]\n",
    "final_tuple.append(tuple1)\n",
    "final_tuple.append(tuple2)\n",
    "output=tuple(final_tuple)\n",
    "\n",
    "print(output)"
   ]
  },
  {
   "cell_type": "code",
   "execution_count": 5,
   "id": "2d06e2ad",
   "metadata": {},
   "outputs": [
    {
     "name": "stdout",
     "output_type": "stream",
     "text": [
      "[22.0, 39.2, 63.75, 3.5]\n",
      "(81, 90, 39, 45)\n"
     ]
    }
   ],
   "source": [
    "#Problem-02\n",
    "\n",
    "\n",
    "#starts\n",
    "#input\n",
    "tuple1=((33, 22, 11), (30, 45, 56, 45,20), (81, 90, 39, 45), (1, 2, 3, 4,5,6))\n",
    "sum1=0\n",
    "sum2=0\n",
    "sum3=0\n",
    "sum4=0\n",
    "\n",
    "a,b,c,d=tuple1\n",
    "\n",
    "for i in a:\n",
    "    sum1+= i \n",
    "avg1=sum1/len(a)\n",
    "\n",
    "for i in b:\n",
    "    sum2+= i \n",
    "avg2=sum2/len(b)\n",
    "    \n",
    "for i in c:\n",
    "    sum3+= i \n",
    "avg3=sum3/len(c)\n",
    "\n",
    "for i in d:\n",
    "    sum4+= i \n",
    "avg4=sum4/len(d)\n",
    " \n",
    "final_list=[avg1,avg2,avg3,avg4]\n",
    "print('Avarage',final_list)\n",
    "\n",
    "maxima=max(tuple1)\n",
    "print('The tuple of maximume number',maxima)"
   ]
  },
  {
   "cell_type": "code",
   "execution_count": 2,
   "id": "afdf0270",
   "metadata": {},
   "outputs": [
    {
     "name": "stdout",
     "output_type": "stream",
     "text": [
      "Enter the Color:RRRGGBBGBGYY\n",
      "(('Red', 3), ('Blue', 3), ('Green', 4))\n"
     ]
    }
   ],
   "source": [
    "#Problem-03\n",
    "\n",
    "#starts\n",
    "word=input('Enter the Color:')\n",
    "\n",
    "red_count=0\n",
    "blue_count=0\n",
    "green_count=0\n",
    "\n",
    "red=['Red']\n",
    "blue=['Blue']\n",
    "green=['Green']\n",
    "final_list=[]\n",
    "\n",
    "for i in word:\n",
    "    if(i == 'R'):\n",
    "        red_count+=1\n",
    "    elif(i =='B'):\n",
    "        blue_count+=1\n",
    "    elif(i =='G'):\n",
    "        green_count+=1\n",
    "    \n",
    "red.append(red_count)\n",
    "blue.append(blue_count)\n",
    "green.append(green_count)\n",
    "\n",
    "tuple1=tuple(red)\n",
    "tuple2=tuple(blue)\n",
    "tuple3=tuple(green)\n",
    "\n",
    "final_list=[tuple1,tuple2,tuple3]\n",
    "output=tuple(final_list)\n",
    "\n",
    "print(output)"
   ]
  },
  {
   "cell_type": "code",
   "execution_count": 8,
   "id": "cf589750",
   "metadata": {},
   "outputs": [
    {
     "name": "stdout",
     "output_type": "stream",
     "text": [
      "Enter:5\n",
      "Enter values:OPR\n",
      "Enter values:POPO\n",
      "Enter values:MAN\n",
      "Enter values:SEAL\n",
      "Enter values:SEEN\n",
      "('OPR', 'POPO', 'MAN', 'SEAL', 'SEEN')\n"
     ]
    }
   ],
   "source": [
    "list1=[]\n",
    "n1=int(input('Enter:'))\n",
    "for i in range(0,n1):\n",
    "    x=input('Enter values:')\n",
    "    list1.append(x)\n"
   ]
  },
  {
   "cell_type": "code",
   "execution_count": 10,
   "id": "2b1157d3",
   "metadata": {
    "scrolled": true
   },
   "outputs": [
    {
     "name": "stdout",
     "output_type": "stream",
     "text": [
      "Enter sub tuple number:3\n",
      "Enter sub tuple length:2\n",
      "Enter the element in the sub tuple:yyth\n",
      "Enter the element in the sub tuple:sdjsdh\n",
      "Enter sub tuple length:2\n",
      "Enter the element in the sub tuple:sdmnds\n",
      "Enter the element in the sub tuple:as\n",
      "Enter sub tuple length:3\n",
      "Enter the element in the sub tuple:dkiefh\n",
      "Enter the element in the sub tuple:oois\n",
      "Enter the element in the sub tuple:nnash\n",
      "[['yyth', 'sdjsdh', 'sdmnds', 'as', 'dkiefh', 'oois', 'nnash'], ['yyth', 'sdjsdh', 'sdmnds', 'as', 'dkiefh', 'oois', 'nnash'], ['yyth', 'sdjsdh', 'sdmnds', 'as', 'dkiefh', 'oois', 'nnash']]\n"
     ]
    }
   ],
   "source": [
    "list1=[]\n",
    "list2=[]\n",
    "n1=int(input('Enter sub tuple number:'))\n",
    "for i in range(0,n1):\n",
    "    n2=int(input('Enter sub tuple length:'))\n",
    "    \n",
    "    for k in range(0,n2):\n",
    "        x=input('Enter the element in the sub tuple:')\n",
    "        list2.append(x)\n",
    "        \n",
    "    list1.append(list2)\n",
    "    \n",
    "print(list1)"
   ]
  },
  {
   "cell_type": "code",
   "execution_count": 12,
   "id": "cfb43f20",
   "metadata": {},
   "outputs": [
    {
     "name": "stdout",
     "output_type": "stream",
     "text": [
      "{'w': [50], 'x': [100], 'y': ['Green', 'Red'], 'z': [400, 600]}\n"
     ]
    }
   ],
   "source": [
    "dict1={'w': 50, 'x': 100, 'y': 'Green', 'z': 400}\n",
    "dict2={'x': 300, 'y': 'Red', 'z': 600}\n",
    "output={}\n",
    "\n",
    "for i in dict1:\n",
    "    for k in dict2:\n",
    "        if(i not in output):\n",
    "            output[i]= [dict1[i]]\n",
    "        elif(k in i):\n",
    "            output[i].append(dict2[k])\n",
    "        \n",
    "print(output)                  "
   ]
  },
  {
   "cell_type": "code",
   "execution_count": null,
   "id": "fb49333c",
   "metadata": {},
   "outputs": [],
   "source": [
    "dict1 = {\"a\":[5,2,55,17],\"P\":(11,121,222),\"B\":(37,53,71),\"c\":[45,92,50]}\n",
    "\n",
    "for key,value in dict1.items():\n",
    "    \n",
    "    if(ord(key)>=65 or ord(key)<=90):\n",
    "        list(value)\n",
    "        for i in value:\n",
    "            if(i%1==0 and i%i==0):\n",
    "                value.append(i)\n",
    "            \n",
    "        dict1[key]=(value)\n",
    "    \n",
    "    else:\n",
    "        for i in value:\n",
    "            if(i%1==0 and i%i==0):\n",
    "                value.append(i)\n",
    "                \n",
    "        dict1[key]=(value)\n",
    "            \n",
    "print(dict1)"
   ]
  },
  {
   "cell_type": "code",
   "execution_count": 12,
   "id": "cf16aa37",
   "metadata": {},
   "outputs": [
    {
     "name": "stdout",
     "output_type": "stream",
     "text": [
      "Jett\n"
     ]
    }
   ],
   "source": [
    "d = { \"Normal Skills\":[10,15,20], \"Ultimate Skill\":50 }\n",
    "damage=0\n",
    "\n",
    "for key,value in d.items():\n",
    "    if(str(type(value)) == \"<class 'int'>\"):\n",
    "        value=[value]\n",
    "    for i in value:\n",
    "        damage+= i\n",
    "        \n",
    "if(damage <= 70):\n",
    "    print('Rage')\n",
    "elif(damage >70 or damage<=100):\n",
    "    print('Jett')\n",
    "else:\n",
    "    print('Sage')"
   ]
  },
  {
   "cell_type": "code",
   "execution_count": null,
   "id": "498f6a7d",
   "metadata": {},
   "outputs": [],
   "source": []
  }
 ],
 "metadata": {
  "kernelspec": {
   "display_name": "Python 3",
   "language": "python",
   "name": "python3"
  },
  "language_info": {
   "codemirror_mode": {
    "name": "ipython",
    "version": 3
   },
   "file_extension": ".py",
   "mimetype": "text/x-python",
   "name": "python",
   "nbconvert_exporter": "python",
   "pygments_lexer": "ipython3",
   "version": "3.8.8"
  }
 },
 "nbformat": 4,
 "nbformat_minor": 5
}
